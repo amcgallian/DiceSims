{
 "cells": [
  {
   "cell_type": "markdown",
   "id": "f6dd0ad8",
   "metadata": {},
   "source": [
    "# Dice Math"
   ]
  },
  {
   "cell_type": "markdown",
   "id": "ceafa14c",
   "metadata": {},
   "source": [
    "## Imports"
   ]
  },
  {
   "cell_type": "code",
   "execution_count": 9,
   "id": "26902015",
   "metadata": {},
   "outputs": [],
   "source": [
    "import matplotlib.pyplot as plt\n",
    "import numpy as np\n",
    "import random"
   ]
  },
  {
   "cell_type": "markdown",
   "id": "cb98c58b",
   "metadata": {},
   "source": [
    "## Inits"
   ]
  },
  {
   "cell_type": "code",
   "execution_count": 138,
   "id": "dcd6d57b",
   "metadata": {},
   "outputs": [],
   "source": [
    "atk_dice = 4\n",
    "hit_char = 2\n",
    "norm_dam = 4\n",
    "crit_dam = 4\n",
    "opp_save = 5"
   ]
  },
  {
   "cell_type": "code",
   "execution_count": 131,
   "id": "80e2f2e3",
   "metadata": {},
   "outputs": [],
   "source": [
    "trials = 10000\n",
    "opp_wounds = 20"
   ]
  },
  {
   "cell_type": "markdown",
   "id": "e4932e33",
   "metadata": {},
   "source": [
    "## Functions"
   ]
  },
  {
   "cell_type": "code",
   "execution_count": 82,
   "id": "05f8a39c",
   "metadata": {},
   "outputs": [],
   "source": [
    "def run_dice_sim(atk_dice: int, hit_char: int, norm_dam: int,\n",
    "                 crit_dam: int, opp_save: int):\n",
    "    \"\"\"\n",
    "    Runs the attacker and defense dice at a basic level to obtain\n",
    "    a damage output for a shooting attack.\n",
    "\n",
    "    Inputs:\n",
    "        - atk_dice: int, the number of attack dice\n",
    "        - hit_char: int, the hit stat of the weapon\n",
    "        - norm_dam: int, the normal damage stat of that weapon\n",
    "        - crit_dam: int, the critical damage stat of that weapon\n",
    "        - opp_save: int, the save characteristic of the opponent\n",
    "\n",
    "    Returns: int, the amount of damage that goes through\n",
    "\n",
    "    \"\"\"\n",
    "    dam_dict = {\n",
    "        \"Norm\": norm_dam,\n",
    "        \"Crit\": crit_dam,\n",
    "        \"Fail\": 0\n",
    "    }\n",
    "\n",
    "    # Attacker Roll\n",
    "    roll_results = []\n",
    "    for _ in range(atk_dice):\n",
    "        roll = random.randint(1, 6)\n",
    "        roll_results.append(roll)\n",
    "    \n",
    "    hits = []\n",
    "    for rr in roll_results:\n",
    "        if rr == 6:\n",
    "            hits.append(\"Crit\")\n",
    "        elif rr >= hit_char:\n",
    "            hits.append(\"Norm\")\n",
    "        else:\n",
    "            hits.append(\"Fail\")\n",
    "    \n",
    "    # Defender Roll\n",
    "    save_roll_results = []\n",
    "    for _ in range(3):\n",
    "        roll = random.randint(1, 6)\n",
    "        save_roll_results.append(roll)\n",
    "    \n",
    "    saves = []\n",
    "    for save in save_roll_results:\n",
    "        if save == 6:\n",
    "            saves.append(\"Crit\")\n",
    "        elif save >= opp_save:\n",
    "            saves.append(\"Norm\")\n",
    "        else:\n",
    "            saves.append(\"Fail\")\n",
    "\n",
    "    # Resolution of Crits\n",
    "    for _ in range(saves.count(\"Crit\")):\n",
    "        if \"Crit\" in saves and \"Crit\" in hits:\n",
    "            saves.remove(\"Crit\")\n",
    "            hits.remove(\"Crit\")\n",
    "        elif \"Crit\" in saves and \"Norm\" in hits:\n",
    "            saves.remove(\"Crit\")\n",
    "            hits.remove(\"Norm\")\n",
    "\n",
    "    # Resolution of Normals\n",
    "    for _ in range(saves.count(\"Norm\")):\n",
    "        if \"Norm\" in saves and \"Norm\" in hits:\n",
    "            saves.remove(\"Norm\")\n",
    "            hits.remove(\"Norm\")\n",
    "\n",
    "    # Resolution of Crits with Normal Saves\n",
    "    if \"Crit\" in hits and saves.count(\"Norm\") >= 2:\n",
    "        hits.remove(\"Crit\")\n",
    "        saves.remove(\"Norm\")\n",
    "        saves.remove(\"Norm\")\n",
    "\n",
    "    # Damage Resolution\n",
    "    return sum([dam_dict.get(item, item) for item in hits])"
   ]
  },
  {
   "cell_type": "code",
   "execution_count": 13,
   "id": "f3ce7ed2",
   "metadata": {},
   "outputs": [],
   "source": [
    "def get_dice_stats(trials: int, opp_wounds: int):\n",
    "\n",
    "    damage_list = []\n",
    "    for _ in range(trials):\n",
    "        damage_list.append(run_dice_sim(atk_dice, hit_char, \n",
    "                                        norm_dam, crit_dam, opp_save))\n",
    "    \n",
    "    average_damage = np.average(damage_list)\n",
    "    prob_to_wound = len([num for num in damage_list if num >= (opp_wounds/2)]\n",
    "                        )/len(damage_list)\n",
    "    prob_to_kill = len([num for num in damage_list if num >= opp_wounds]\n",
    "                        )/len(damage_list)\n",
    "\n",
    "    return (damage_list, average_damage, prob_to_wound, prob_to_kill)"
   ]
  },
  {
   "cell_type": "markdown",
   "id": "fb1e5c9a",
   "metadata": {},
   "source": [
    "## Simulate"
   ]
  },
  {
   "cell_type": "code",
   "execution_count": 139,
   "id": "6742aca0",
   "metadata": {},
   "outputs": [
    {
     "data": {
      "text/plain": [
       "Text(0.5, 0.5, 'Average Damage: 9.46\\nProbability to Injure: 0.48\\nProbability to Incapacitate: 0.00')"
      ]
     },
     "execution_count": 139,
     "metadata": {},
     "output_type": "execute_result"
    },
    {
     "data": {
      "image/png": "[encoded data removed]",
      "text/plain": [
       "<Figure size 640x480 with 1 Axes>"
      ]
     },
     "metadata": {},
     "output_type": "display_data"
    }
   ],
   "source": [
    "stats = get_dice_stats(trials, opp_wounds)\n",
    "plt.hist(stats[0], density=True)\n",
    "plt.axvline(stats[1], color='black', linestyle='dashed', linewidth=2, label=f'Mean Damage: {stats[1]:.2f}')\n",
    "plt.xlabel(\"Damage\")\n",
    "plt.title(\"Possible Damage Distribution\")\n",
    "plt.show\n",
    "\n",
    "stats_text = f'Average Damage: {stats[1]:.2f}\\nProbability to Injure: {stats[2]:.2f}\\nProbability to Incapacitate: {stats[3]:.2f}'\n",
    "plt.text(0.5, 0.5, stats_text, transform=plt.gca().transAxes,\n",
    "         fontsize=10, bbox=dict(boxstyle='round,pad=0.5', facecolor='yellow', alpha=0.5))"
   ]
  },
  {
   "cell_type": "markdown",
   "id": "94fc83ae",
   "metadata": {},
   "source": []
  }
 ],
 "metadata": {
  "kernelspec": {
   "display_name": "Python 3",
   "language": "python",
   "name": "python3"
  },
  "language_info": {
   "codemirror_mode": {
    "name": "ipython",
    "version": 3
   },
   "file_extension": ".py",
   "mimetype": "text/x-python",
   "name": "python",
   "nbconvert_exporter": "python",
   "pygments_lexer": "ipython3",
   "version": "3.13.3"
  }
 },
 "nbformat": 4,
 "nbformat_minor": 5
}
